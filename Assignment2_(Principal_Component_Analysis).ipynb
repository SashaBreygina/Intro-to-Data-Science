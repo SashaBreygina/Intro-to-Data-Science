{
  "nbformat": 4,
  "nbformat_minor": 0,
  "metadata": {
    "colab": {
      "provenance": []
    },
    "kernelspec": {
      "name": "python3",
      "display_name": "Python 3"
    },
    "language_info": {
      "name": "python"
    }
  },
  "cells": [
    {
      "cell_type": "code",
      "execution_count": 3,
      "metadata": {
        "id": "yE9Dx31wu8mA"
      },
      "outputs": [],
      "source": [
        "import pandas as pd\n",
        "import numpy as np\n",
        "from sklearn.preprocessing import StandardScaler\n",
        "from sklearn.decomposition import PCA\n",
        "import matplotlib.pyplot as plt"
      ]
    },
    {
      "cell_type": "code",
      "source": [
        "# Load the dataset\n",
        "data = pd.read_csv('Modified_Automobile_data.csv')\n",
        "\n",
        "# Select the features (columns) that you want to include in the analysis\n",
        "# Select numerical features that are relevant to price prediction\n",
        "selected_features = [\"highway-mpg\", \"engine-size\", \"horsepower\", \"curb-weight\"]\n",
        "\n",
        "# Create a new DataFrame with only the selected features\n",
        "X = data[selected_features]"
      ],
      "metadata": {
        "id": "wPeKGCJ9mEjm"
      },
      "execution_count": 4,
      "outputs": []
    },
    {
      "cell_type": "code",
      "source": [
        "print(X.dtypes) #Printing a list of data types for all the columns in X"
      ],
      "metadata": {
        "colab": {
          "base_uri": "https://localhost:8080/"
        },
        "id": "zKewc6kOwJjl",
        "outputId": "2d1e5d29-b32d-43cf-9e9e-30ccef535048"
      },
      "execution_count": 5,
      "outputs": [
        {
          "output_type": "stream",
          "name": "stdout",
          "text": [
            "highway-mpg    float64\n",
            "engine-size     object\n",
            "horsepower     float64\n",
            "curb-weight     object\n",
            "dtype: object\n"
          ]
        }
      ]
    },
    {
      "cell_type": "code",
      "source": [
        "# Replace non-numeric values with NaN\n",
        "X['engine-size'] = pd.to_numeric(X['engine-size'], errors='coerce')\n",
        "\n",
        "# Fill NaN values with appropriate imputation method (e.g., mean, median)\n",
        "X['engine-size'].fillna(X['engine-size'].mean(), inplace=True)"
      ],
      "metadata": {
        "colab": {
          "base_uri": "https://localhost:8080/"
        },
        "id": "E_gSLg9Wwg6j",
        "outputId": "9064012a-6997-45d0-a692-6aaa9e20923a"
      },
      "execution_count": 6,
      "outputs": [
        {
          "output_type": "stream",
          "name": "stderr",
          "text": [
            "<ipython-input-6-5c418151af8a>:2: SettingWithCopyWarning: \n",
            "A value is trying to be set on a copy of a slice from a DataFrame.\n",
            "Try using .loc[row_indexer,col_indexer] = value instead\n",
            "\n",
            "See the caveats in the documentation: https://pandas.pydata.org/pandas-docs/stable/user_guide/indexing.html#returning-a-view-versus-a-copy\n",
            "  X['engine-size'] = pd.to_numeric(X['engine-size'], errors='coerce')\n",
            "<ipython-input-6-5c418151af8a>:5: SettingWithCopyWarning: \n",
            "A value is trying to be set on a copy of a slice from a DataFrame\n",
            "\n",
            "See the caveats in the documentation: https://pandas.pydata.org/pandas-docs/stable/user_guide/indexing.html#returning-a-view-versus-a-copy\n",
            "  X['engine-size'].fillna(X['engine-size'].mean(), inplace=True)\n"
          ]
        }
      ]
    },
    {
      "cell_type": "code",
      "source": [
        "print(X.dtypes)"
      ],
      "metadata": {
        "colab": {
          "base_uri": "https://localhost:8080/"
        },
        "id": "VYeD8zc_witB",
        "outputId": "e5f9a226-8099-4f94-9c9e-825a3cac5caa"
      },
      "execution_count": 7,
      "outputs": [
        {
          "output_type": "stream",
          "name": "stdout",
          "text": [
            "highway-mpg    float64\n",
            "engine-size    float64\n",
            "horsepower     float64\n",
            "curb-weight     object\n",
            "dtype: object\n"
          ]
        }
      ]
    },
    {
      "cell_type": "code",
      "source": [
        "# Replace non-numeric values with NaN\n",
        "X['curb-weight'] = pd.to_numeric(X['curb-weight'], errors='coerce')\n",
        "\n",
        "# Fill NaN values with appropriate imputation method (e.g., mean, median)\n",
        "X['curb-weight'].fillna(X['curb-weight'].mean(), inplace=True)"
      ],
      "metadata": {
        "colab": {
          "base_uri": "https://localhost:8080/"
        },
        "id": "K1bBhirywnFB",
        "outputId": "90090896-df8a-4467-d08b-31f65c72ddac"
      },
      "execution_count": 8,
      "outputs": [
        {
          "output_type": "stream",
          "name": "stderr",
          "text": [
            "<ipython-input-8-795207925062>:2: SettingWithCopyWarning: \n",
            "A value is trying to be set on a copy of a slice from a DataFrame.\n",
            "Try using .loc[row_indexer,col_indexer] = value instead\n",
            "\n",
            "See the caveats in the documentation: https://pandas.pydata.org/pandas-docs/stable/user_guide/indexing.html#returning-a-view-versus-a-copy\n",
            "  X['curb-weight'] = pd.to_numeric(X['curb-weight'], errors='coerce')\n",
            "<ipython-input-8-795207925062>:5: SettingWithCopyWarning: \n",
            "A value is trying to be set on a copy of a slice from a DataFrame\n",
            "\n",
            "See the caveats in the documentation: https://pandas.pydata.org/pandas-docs/stable/user_guide/indexing.html#returning-a-view-versus-a-copy\n",
            "  X['curb-weight'].fillna(X['curb-weight'].mean(), inplace=True)\n"
          ]
        }
      ]
    },
    {
      "cell_type": "code",
      "source": [
        "print(X.dtypes) #Checking the data types"
      ],
      "metadata": {
        "colab": {
          "base_uri": "https://localhost:8080/"
        },
        "id": "fDs4gfgqwxGZ",
        "outputId": "6c6d744c-f0da-4cd5-a34c-7dd4c277644c"
      },
      "execution_count": 11,
      "outputs": [
        {
          "output_type": "stream",
          "name": "stdout",
          "text": [
            "highway-mpg    float64\n",
            "engine-size    float64\n",
            "horsepower     float64\n",
            "curb-weight    float64\n",
            "dtype: object\n"
          ]
        }
      ]
    },
    {
      "cell_type": "code",
      "source": [
        "# Fill NaN values with appropriate imputation method (e.g., mean, median)\n",
        "X['highway-mpg'].fillna(X['highway-mpg'].mean(), inplace=True)"
      ],
      "metadata": {
        "colab": {
          "base_uri": "https://localhost:8080/"
        },
        "id": "gDBT6VElw2q0",
        "outputId": "b194c4a3-ec3f-4c09-a82f-fc050b7fd293"
      },
      "execution_count": 12,
      "outputs": [
        {
          "output_type": "stream",
          "name": "stderr",
          "text": [
            "<ipython-input-12-f4871d9fc43b>:2: SettingWithCopyWarning: \n",
            "A value is trying to be set on a copy of a slice from a DataFrame\n",
            "\n",
            "See the caveats in the documentation: https://pandas.pydata.org/pandas-docs/stable/user_guide/indexing.html#returning-a-view-versus-a-copy\n",
            "  X['highway-mpg'].fillna(X['highway-mpg'].mean(), inplace=True)\n"
          ]
        }
      ]
    },
    {
      "cell_type": "code",
      "source": [
        "# Fill NaN values with appropriate imputation method (e.g., mean, median)\n",
        "X['horsepower'].fillna(X['horsepower'].mean(), inplace=True)"
      ],
      "metadata": {
        "colab": {
          "base_uri": "https://localhost:8080/"
        },
        "id": "l7HGBefEw-d_",
        "outputId": "39763961-0cda-4242-aa96-a5c9abacfa5d"
      },
      "execution_count": 13,
      "outputs": [
        {
          "output_type": "stream",
          "name": "stderr",
          "text": [
            "<ipython-input-13-328a6839e281>:2: SettingWithCopyWarning: \n",
            "A value is trying to be set on a copy of a slice from a DataFrame\n",
            "\n",
            "See the caveats in the documentation: https://pandas.pydata.org/pandas-docs/stable/user_guide/indexing.html#returning-a-view-versus-a-copy\n",
            "  X['horsepower'].fillna(X['horsepower'].mean(), inplace=True)\n"
          ]
        }
      ]
    },
    {
      "cell_type": "code",
      "source": [
        "# Standardize the feature matrix (mean=0, variance=1)\n",
        "scaler = StandardScaler()\n",
        "X_scaled = scaler.fit_transform(X)\n",
        "\n",
        "# Apply PCA\n",
        "pca = PCA()\n",
        "X_pca = pca.fit_transform(X_scaled)\n",
        "\n",
        "# Calculate the cumulative explained variance ratio\n",
        "explained_variance_ratio_cumsum = np.cumsum(pca.explained_variance_ratio_)\n",
        "\n",
        "# Plot the explained variance ratio\n",
        "plt.plot(range(1, len(explained_variance_ratio_cumsum) + 1), explained_variance_ratio_cumsum, marker='o', linestyle='--')\n",
        "plt.xlabel('Number of Principal Components')\n",
        "plt.ylabel('Cumulative Explained Variance Ratio')\n",
        "plt.title('Explained Variance vs. Number of Principal Components')\n",
        "plt.grid()\n",
        "plt.show()\n",
        "\n",
        "# Find the number of principal components needed to explain at least 75% of the variance\n",
        "n_components_75_percent = np.argmax(explained_variance_ratio_cumsum >= 0.75) + 1\n",
        "\n",
        "print(f\"Number of Principal Components to Explain 75% of Variance: {n_components_75_percent}\")\n",
        "\n",
        "# Get the principal components\n",
        "principal_components = pca.components_[:n_components_75_percent]"
      ],
      "metadata": {
        "colab": {
          "base_uri": "https://localhost:8080/",
          "height": 490
        },
        "id": "l4TFTZIEwDLw",
        "outputId": "e6bfc48d-08ff-42b3-b727-7d29d4057eda"
      },
      "execution_count": 14,
      "outputs": [
        {
          "output_type": "display_data",
          "data": {
            "text/plain": [
              "<Figure size 640x480 with 1 Axes>"
            ],
            "image/png": "[encoded data removed]"
          },
          "metadata": {}
        },
        {
          "output_type": "stream",
          "name": "stdout",
          "text": [
            "Number of Principal Components to Explain 75% of Variance: 1\n"
          ]
        }
      ]
    }
  ]
}